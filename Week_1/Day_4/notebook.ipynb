{
  "cells": [
    {
      "cell_type": "markdown",
      "metadata": {},
      "source": [
        "# Day 4: Risk Metrics for Equities and Credit\n",
        "Compute VaR, beta, and spread volatility for a mixed portfolio."
      ]
    },
    {
      "cell_type": "code",
      "execution_count": null,
      "metadata": {},
      "outputs": [],
      "source": [
        "import numpy as np\n",
        "import pandas as pd\n",
        "\n",
        "def compute_var(returns: np.ndarray, confidence: float = 0.95) -> float:\n",
        "    return np.percentile(returns, 100 * (1 - confidence)) * np.sqrt(252)\n",
        "\n",
        "def compute_beta(stock_returns: np.ndarray, market_returns: np.ndarray) -> float:\n",
        "    cov = np.cov(stock_returns, market_returns)[0, 1]\n",
        "    var = np.var(market_returns)\n",
        "    return cov / var\n",
        "\n",
        "def compute_spread_volatility(yields: np.ndarray, risk_free: float) -> float:\n",
        "    spreads = yields - risk_free\n",
        "    return np.std(spreads) * np.sqrt(252)\n",
        "\n",
        "np.random.seed(42)\n",
        "stock = np.random.normal(0, 0.01, 252)\n",
        "market = np.random.normal(0, 0.008, 252)\n",
        "bond_yields = np.random.normal(0.05, 0.002, 252)\n",
        "risk_free = 0.03\n",
        "var = compute_var(stock)\n",
        "beta = compute_beta(stock, market)\n",
        "spread_vol = compute_spread_volatility(bond_yields, risk_free)\n",
        "print(f'Equity VaR: {var:.4f}, Beta: {beta:.4f}, Credit Spread Volatility: {spread_vol:.4f}')"
      ]
    }
  ],
  "metadata": {
    "kernelspec": {
      "display_name": "Python 3",
      "language": "python",
      "name": "python3"
    },
    "language_info": {
      "codemirror_mode": {
        "name": "ipython",
        "version": 3
      },
      "file_extension": ".py",
      "mimetype": "text/x-python",
      "name": "python",
      "nbconvert_exporter": "python",
      "pygments_lexer": "ipython3",
      "version": "3.9.0"
    }
  },
  "nbformat": 4,
  "nbformat_minor": 4
}