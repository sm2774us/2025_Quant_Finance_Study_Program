{
  "cells": [
    {
      "cell_type": "markdown",
      "metadata": {},
      "source": [
        "# Day 1: Portfolio Metrics\n",
        "Compute annualized portfolio return and volatility using NumPy and Pandas."
      ]
    },
    {
      "cell_type": "code",
      "execution_count": null,
      "metadata": {},
      "outputs": [],
      "source": [
        "import numpy as np\n",
        "import pandas as pd\n",
        "\n",
        "def compute_portfolio_metrics(prices: pd.DataFrame, weights: np.ndarray) -> tuple:\n",
        "    returns = prices.pct_change().dropna()\n",
        "    mean_returns = returns.mean() * 252\n",
        "    cov_matrix = returns.cov() * 252\n",
        "    portfolio_return = np.sum(mean_returns * weights)\n",
        "    portfolio_volatility = np.sqrt(np.dot(weights.T, np.dot(cov_matrix, weights)))\n",
        "    return portfolio_return, portfolio_volatility\n",
        "\n",
        "# Simulate price data\n",
        "np.random.seed(42)\n",
        "data = pd.DataFrame({\n",
        "    'Stock1': np.random.normal(100, 10, 252),\n",
        "    'Stock2': np.random.normal(100, 15, 252)\n",
        "})\n",
        "weights = np.array([0.6, 0.4])\n",
        "ret, vol = compute_portfolio_metrics(data, weights)\n",
        "print(f'Portfolio Return: {ret:.2%}, Volatility: {vol:.2%}')"
      ]
    }
  ],
  "metadata": {
    "kernelspec": {
      "display_name": "Python 3",
      "language": "python",
      "name": "python3"
    },
    "language_info": {
      "codemirror_mode": {
        "name": "ipython",
        "version": 3
      },
      "file_extension": ".py",
      "mimetype": "text/x-python",
      "name": "python",
      "nbconvert_exporter": "python",
      "pygments_lexer": "ipython3",
      "version": "3.9.0"
    }
  },
  "nbformat": 4,
  "nbformat_minor": 4
}