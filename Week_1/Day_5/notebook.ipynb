{
  "cells": [
    {
      "cell_type": "markdown",
      "metadata": {},
      "source": [
        "# Day 5: Collateral Optimization\n",
        "Minimize collateral cost subject to value constraints using Mosek."
      ]
    },
    {
      "cell_type": "code",
      "execution_count": null,
      "metadata": {},
      "outputs": [],
      "source": [
        "from mosek.fusion import *\n",
        "import numpy as np\n",
        "\n",
        "def collateral_optimization(costs: np.ndarray, values: np.ndarray, requirement: float) -> np.ndarray:\n",
        "    n = len(costs)\n",
        "    with Model('Collateral') as M:\n",
        "        x = M.variable('x', n, Domain.greaterThan(0.0))\n",
        "        M.constraint('value', Expr.dot(values, x), Domain.greaterThan(requirement))\n",
        "        M.objective('obj', ObjectiveSense.Minimize, Expr.dot(costs, x))\n",
        "        M.solve()\n",
        "        return x.level()\n",
        "\n",
        "np.random.seed(42)\n",
        "costs = np.array([0.1, 0.2, 0.15])\n",
        "values = np.array([1.0, 0.9, 1.1])\n",
        "requirement = 10.0\n",
        "allocation = collateral_optimization(costs, values, requirement)\n",
        "print(f'Collateral Allocation: {allocation}')"
      ]
    }
  ],
  "metadata": {
    "kernelspec": {
      "display_name": "Python 3",
      "language": "python",
      "name": "python3"
    },
    "language_info": {
      "codemirror_mode": {
        "name": "ipython",
        "version": 3
      },
      "file_extension": ".py",
      "mimetype": "text/x-python",
      "name": "python",
      "nbconvert_exporter": "python",
      "pygments_lexer": "ipython3",
      "version": "3.9.0"
    }
  },
  "nbformat": 4,
  "nbformat_minor": 4
}