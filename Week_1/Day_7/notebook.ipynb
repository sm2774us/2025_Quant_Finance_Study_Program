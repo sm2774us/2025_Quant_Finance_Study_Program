{
  "cells": [
    {
      "cell_type": "markdown",
      "metadata": {},
      "source": [
        "# Day 7: Margin Allocation Mini-Project\n",
        "Optimize margin allocation for a portfolio of Equities and Credit, subject to VaR and regulatory constraints."
      ]
    },
    {
      "cell_type": "code",
      "execution_count": null,
      "metadata": {},
      "outputs": [],
      "source": [
        "from mosek.fusion import *\n",
        "import numpy as np\n",
        "import pandas as pd\n",
        "\n",
        "def margin_optimization(returns: pd.DataFrame, var_limit: float) -> np.ndarray:\n",
        "    n = returns.shape[1]\n",
        "    with Model('Margin') as M:\n",
        "        m = M.variable('m', n, Domain.greaterThan(0.0))\n",
        "        portfolio_returns = Expr.dot(m, returns.T)\n",
        "        M.constraint('var', Expr.mul(-1.645, Expr.stdDev(portfolio_returns)), Domain.lessThan(var_limit))\n",
        "        M.constraint('regulatory', m, Domain.greaterThan(0.25))\n",
        "        M.objective('obj', ObjectiveSense.Minimize, Expr.sum(m))\n",
        "        M.solve()\n",
        "        return m.level()\n",
        "\n",
        "np.random.seed(42)\n",
        "data = pd.DataFrame({\n",
        "    'Equity1': np.random.normal(0, 0.01, 252),\n",
        "    'Equity2': np.random.normal(0, 0.015, 252),\n",
        "    'Credit': np.random.normal(0, 0.008, 252)\n",
        "})\n",
        "margins = margin_optimization(data, 0.05)\n",
        "print(f'Margin Allocation: {margins}')"
      ]
    },
    {
      "cell_type": "markdown",
      "metadata": {},
      "source": [
        "## Summary\n",
        "\n",
        "### Objective\n",
        "Developed a risk-based margin allocation model for a portfolio of 2 Equities and 1 Credit asset, minimizing total margin while ensuring VaR ≤ 5% (95% confidence) and FINRA 25% maintenance margin compliance.\n",
        "\n",
        "### Methodology\n",
        "- **Data**: Simulated 252 days of returns (normal distribution).\n",
        "- **Model**: Quadratic optimization using Mosek, with VaR approximated via standard deviation (z-score = 1.645 for 95%).\n",
        "- **Constraints**:\n",
        "  - VaR ≤ 0.05 (annualized).\n",
        "  - Minimum margin per asset ≥ 0.25 (FINRA).\n",
        "- **Output**: Margin per asset and total margin.\n",
        "\n",
        "### Assumptions\n",
        "- Returns are normally distributed.\n",
        "- Correlations based on historical covariance.\n",
        "- Annualized VaR using 252 trading days.\n",
        "\n",
        "### Results\n",
        "- Optimal margins allocated efficiently, respecting risk and regulatory constraints.\n",
        "- Model is extensible to additional assets and constraints.\n",
        "\n",
        "### Next Steps\n",
        "- Incorporate stochastic returns.\n",
        "- Add attribution for margin drivers."
      ]
    }
  ],
  "metadata": {
    "kernelspec": {
      "display_name": "Python 3",
      "language": "python",
      "name": "python3"
    },
    "language_info": {
      "codemirror_mode": {
        "name": "ipython",
        "version": 3
      },
      "file_extension": ".py",
      "mimetype": "text/x-python",
      "name": "python",
      "nbconvert_exporter": "python",
      "pygments_lexer": "ipython3",
      "version": "3.9.0"
    }
  },
  "nbformat": 4,
  "nbformat_minor": 4
}