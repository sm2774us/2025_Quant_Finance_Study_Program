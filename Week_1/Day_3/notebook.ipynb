{
  "cells": [
    {
      "cell_type": "markdown",
      "metadata": {},
      "source": [
        "# Day 3: Margin Allocation\n",
        "Compute portfolio margin using VaR and cross-margining."
      ]
    },
    {
      "cell_type": "code",
      "execution_count": null,
      "metadata": {},
      "outputs": [],
      "source": [
        "import numpy as np\n",
        "import pandas as pd\n",
        "\n",
        "def compute_margin(returns: pd.DataFrame, confidence: float = 0.95, scaling_factor: float = 1.0) -> float:\n",
        "    portfolio_returns = returns.mean(axis=1)\n",
        "    var = np.percentile(portfolio_returns, 100 * (1 - confidence))\n",
        "    cov_matrix = returns.cov() * 252\n",
        "    weights = np.ones(returns.shape[1]) / returns.shape[1]\n",
        "    portfolio_vol = np.sqrt(np.dot(weights.T, np.dot(cov_matrix, weights)))\n",
        "    margin = -var * np.sqrt(252) * scaling_factor\n",
        "    return margin\n",
        "\n",
        "np.random.seed(42)\n",
        "data = pd.DataFrame({\n",
        "    'Asset1': np.random.normal(0, 0.01, 252),\n",
        "    'Asset2': np.random.normal(0, 0.015, 252)\n",
        "})\n",
        "margin = compute_margin(data)\n",
        "print(f'Portfolio Margin: {margin:.4f}')"
      ]
    }
  ],
  "metadata": {
    "kernelspec": {
      "display_name": "Python 3",
      "language": "python",
      "name": "python3"
    },
    "language_info": {
      "codemirror_mode": {
        "name": "ipython",
        "version": 3
      },
      "file_extension": ".py",
      "mimetype": "text/x-python",
      "name": "python",
      "nbconvert_exporter": "python",
      "pygments_lexer": "ipython3",
      "version": "3.9.0"
    }
  },
  "nbformat": 4,
  "nbformat_minor": 4
}