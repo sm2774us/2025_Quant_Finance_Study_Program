{
  "cells": [
    {
      "cell_type": "markdown",
      "metadata": {},
      "source": [
        "# Day 2: Portfolio Optimization with Mosek\n",
        "Minimize portfolio volatility subject to return and budget constraints using Mosek."
      ]
    },
    {
      "cell_type": "code",
      "execution_count": null,
      "metadata": {},
      "outputs": [],
      "source": [
        "from mosek.fusion import *\n",
        "import numpy as np\n",
        "\n",
        "def portfolio_optimization(returns: np.ndarray, cov_matrix: np.ndarray, target_return: float) -> np.ndarray:\n",
        "    n = len(returns)\n",
        "    with Model('Portfolio') as M:\n",
        "        x = M.variable('x', n, Domain.greaterThan(0.0))\n",
        "        M.constraint('budget', Expr.sum(x), Domain.equalsTo(1.0))\n",
        "        M.constraint('return', Expr.dot(returns, x), Domain.greaterThan(target_return))\n",
        "        M.objective('obj', ObjectiveSense.Minimize, Expr.sqrt(Expr.dot(x, Expr.mul(cov_matrix, x))))\n",
        "        M.solve()\n",
        "        return x.level()\n",
        "\n",
        "np.random.seed(42)\n",
        "returns = np.array([0.1, 0.15, 0.08])\n",
        "cov_matrix = np.array([[0.05, 0.01, 0.01], [0.01, 0.07, 0.02], [0.01, 0.02, 0.06]])\n",
        "weights = portfolio_optimization(returns, cov_matrix, 0.1)\n",
        "print(f'Optimal Weights: {weights}')"
      ]
    }
  ],
  "metadata": {
    "kernelspec": {
      "display_name": "Python 3",
      "language": "python",
      "name": "python3"
    },
    "language_info": {
      "codemirror_mode": {
        "name": "ipython",
        "version": 3
      },
      "file_extension": ".py",
      "mimetype": "text/x-python",
      "name": "python",
      "nbconvert_exporter": "python",
      "pygments_lexer": "ipython3",
      "version": "3.9.0"
    }
  },
  "nbformat": 4,
  "nbformat_minor": 4
}