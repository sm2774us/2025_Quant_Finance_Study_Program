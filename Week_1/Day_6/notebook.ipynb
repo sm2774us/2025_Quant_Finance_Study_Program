{
  "cells": [
    {
      "cell_type": "markdown",
      "metadata": {},
      "source": [
        "# Day 6: Collaboration and Requirements\n",
        "Draft a requirements document for a margin allocation model."
      ]
    },
    {
      "cell_type": "markdown",
      "metadata": {},
      "source": [
        "## Margin Allocation Model Requirements\n",
        "\n",
        "### Objective\n",
        "Develop a risk-based margin allocation model to optimize capital utilization across Equities and Credit portfolios.\n",
        "\n",
        "### Stakeholders\n",
        "- **Portfolio Managers**: Require minimized margins to maximize returns.\n",
        "- **Risk Team**: Ensure VaR does not exceed 5% at 95% confidence.\n",
        "- **IT**: Need model in Python with CSV data inputs.\n",
        "\n",
        "### Requirements\n",
        "1. **Model Scope**: Allocate margins for a portfolio of 10 Equities and 5 Credit assets.\n",
        "2. **Risk Constraint**: Portfolio VaR ≤ 0.05 (95% confidence, annualized).\n",
        "3. **Optimization**: Minimize total margin using Mosek solver.\n",
        "4. **Data Inputs**: Daily returns in CSV format (columns: date, asset_id, return).\n",
        "5. **Outputs**: Margin per asset, total margin, and VaR.\n",
        "6. **Explainability**: Provide attribution of margin drivers (volatility, correlation).\n",
        "\n",
        "### Constraints\n",
        "- Regulatory: Comply with FINRA 25% maintenance margin.\n",
        "- Technical: Run on Python 3.9 with NumPy, Pandas, Mosek.\n",
        "\n",
        "### Deliverables\n",
        "- Python script with optimization model.\n",
        "- Documentation explaining methodology.\n",
        "- Presentation for stakeholders.\n",
        "\n",
        "### Timeline\n",
        "- Prototype: 1 week\n",
        "- Testing and Deployment: 2 weeks"
      ]
    }
  ],
  "metadata": {
    "kernelspec": {
      "display_name": "Python 3",
      "language": "python",
      "name": "python3"
    },
    "language_info": {
      "codemirror_mode": {
        "name": "ipython",
        "version": 3
      },
      "file_extension": ".py",
      "mimetype": "text/x-python",
      "name": "python",
      "nbconvert_exporter": "python",
      "pygments_lexer": "ipython3",
      "version": "3.9.0"
    }
  },
  "nbformat": 4,
  "nbformat_minor": 4
}