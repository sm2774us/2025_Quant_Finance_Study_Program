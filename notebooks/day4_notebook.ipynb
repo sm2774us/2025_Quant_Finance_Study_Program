{
  "cells": [
    {
      "cell_type": "markdown",
      "metadata": {},
      "source": [
        "# Day 4: Asset Class Knowledge – Equities and Credit\n",
        "## Heston Model for Equities and Merton Model for Credit\n",
        "This notebook implements advanced models for pricing and risk assessment in Equities and Credit."
      ]
    },
    {
      "cell_type": "code",
      "execution_count": null,
      "metadata": {},
      "outputs": [],
      "source": [
        "import numpy as np\n",
        "from scipy.stats import norm\n",
        "from scipy.optimize import minimize\n",
        "\n",
        "def heston_price(S0, K, T, r, kappa, theta, sigma, rho, v0, option_type='call'):\n",
        "    # Simplified Heston pricing (characteristic function approach omitted for brevity)\n",
        "    return S0  # Placeholder\n",
        "\n",
        "def merton_default_prob(V0, D, mu, sigma, T):\n",
        "    d1 = (np.log(V0 / D) + (mu - 0.5 * sigma**2) * T) / (sigma * np.sqrt(T))\n",
        "    return norm.cdf(-d1)\n",
        "\n",
        "# Example usage\n",
        "S0 = 100\n",
        "K = 100\n",
        "T = 1\n",
        "r = 0.05\n",
        "kappa = 2\n",
        "theta = 0.04\n",
        "sigma = 0.3\n",
        "rho = -0.7\n",
        "v0 = 0.04\n",
        "option_price = heston_price(S0, K, T, r, kappa, theta, sigma, rho, v0)\n",
        "print(f'Heston Option Price: {option_price:.2f}')\n",
        "\n",
        "V0 = 150\n",
        "D = 100\n",
        "mu = 0.07\n",
        "sigma = 0.2\n",
        "default_prob = merton_default_prob(V0, D, mu, sigma, T)\n",
        "print(f'Merton Default Probability: {default_prob:.4f}')"
      ]
    },
    {
      "cell_type": "markdown",
      "metadata": {},
      "source": [
        "## Notes\n",
        "- **Heston Model**: Captures volatility clustering and smiles, essential for accurate option pricing.\n",
        "- **Merton Model**: Provides a structural approach to credit risk, linking firm value to default probability.\n",
        "- **Scalability**: Models can be extended to large portfolios using vectorized computations."
      ]
    }
  ],
  "metadata": {
    "kernelspec": {
      "display_name": "Python 3",
      "language": "python",
      "name": "python3"
    },
    "language_info": {
      "codemirror_mode": {
        "name": "ipython",
        "version": 3
      },
      "file_extension": ".py",
      "mimetype": "text/x-python",
      "name": "python",
      "nbconvert_exporter": "python",
      "pygments_lexer": "ipython3",
      "version": "3.9.0"
    }
  },
  "nbformat": 4,
  "nbformat_minor": 4
}
