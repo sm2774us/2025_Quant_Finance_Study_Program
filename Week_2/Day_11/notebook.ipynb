{
  "cells": [
    {
      "cell_type": "markdown",
      "metadata": {},
      "source": [
        "# Day 11: Liquidity and Collateral Optimization\n",
        "Optimize collateral allocation with LCR and haircut constraints."
      ]
    },
    {
      "cell_type": "code",
      "execution_count": null,
      "metadata": {},
      "outputs": [],
      "source": [
        "from mosek.fusion import *\n",
        "import numpy as np\n",
        "\n",
        "def liquidity_optimization(costs: np.ndarray, values: np.ndarray, haircuts: np.ndarray, requirement: float, haircut_limit: float) -> np.ndarray:\n",
        "    n = len(costs)\n",
        "    with Model('Liquidity') as M:\n",
        "        x = M.variable('x', n, Domain.greaterThan(0.0))\n",
        "        M.constraint('value', Expr.dot(values, x), Domain.greaterThan(requirement))\n",
        "        M.constraint('haircut', Expr.dot(haircuts, x), Domain.lessThan(haircut_limit))\n",
        "        M.objective('obj', ObjectiveSense.Minimize, Expr.dot(costs, x))\n",
        "        M.solve()\n",
        "        return x.level()\n",
        "\n",
        "np.random.seed(42)\n",
        "costs = np.array([0.1, 0.2, 0.15])\n",
        "values = np.array([1.0, 0.9, 1.1])\n",
        "haircuts = np.array([0.05, 0.1, 0.07])\n",
        "requirement = 10.0\n",
        "haircut_limit = 0.5\n",
        "allocation = liquidity_optimization(costs, values, haircuts, requirement, haircut_limit)\n",
        "print(f'Liquidity Allocation: {allocation}')"
      ]
    }
  ],
  "metadata": {
    "kernelspec": {
      "display_name": "Python 3",
      "language": "python",
      "name": "python3"
    },
    "language_info": {
      "codemirror_mode": {
        "name": "ipython",
        "version": 3
      },
      "file_extension": ".py",
      "mimetype": "text/x-python",
      "name": "python",
      "nbconvert_exporter": "python",
      "pygments_lexer": "ipython3",
      "version": "3.9.0"
    }
  },
  "nbformat": 4,
  "nbformat_minor": 4
}