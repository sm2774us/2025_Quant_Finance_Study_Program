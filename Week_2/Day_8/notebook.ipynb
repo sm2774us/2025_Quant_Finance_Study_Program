{
  "cells": [
    {
      "cell_type": "markdown",
      "metadata": {},
      "source": [
        "# Day 8: Stochastic Margin Optimization\n",
        "Optimize margins under uncertainty using scenario-based VaR constraints."
      ]
    },
    {
      "cell_type": "code",
      "execution_count": null,
      "metadata": {},
      "outputs": [],
      "source": [
        "from mosek.fusion import *\n",
        "import numpy as np\n",
        "\n",
        "def stochastic_optimization(returns: np.ndarray, scenarios: list, var_limit: float) -> np.ndarray:\n",
        "    n = returns.shape[1]\n",
        "    with Model('Stochastic') as M:\n",
        "        m = M.variable('m', n, Domain.greaterThan(0.0))\n",
        "        for i, s in enumerate(scenarios):\n",
        "            M.constraint_modal(f'var_{i}', Expr.dot(m, s), Domain.lessThan(var_limit))\n",
        "        M.objective('obj', ObjectiveSense.Minimize, Expr.sum(m))\n",
        "        M.solve()\n",
        "        return m.level()\n",
        "\n",
        "np.random.seed(42)\n",
        "returns = np.random.normal(0, 0.01, (252, 2))\n",
        "scenarios = [returns[i:i+10].mean(axis=0) for i in range(0, 252, 10)]\n",
        "margins = stochastic_optimization(returns, scenarios, 0.05)\n",
        "print(f'Stochastic Margins: {margins}')"
      ]
    }
  ],
  "metadata": {
    "kernelspec": {
      "display_name": "Python 3",
      "language": "python",
      "name": "python3"
    },
    "language_info": {
      "codemirror_mode": {
        "name": "ipython",
        "version": 3
      },
      "file_extension": ".py",
      "mimetype": "text/x-python",
      "name": "python",
      "nbconvert_exporter": "python",
      "pygments_lexer": "ipython3",
      "version": "3.9.0"
    }
  },
  "nbformat": 4,
  "nbformat_minor": 4
}