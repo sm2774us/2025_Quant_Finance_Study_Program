{
  "cells": [
    {
      "cell_type": "markdown",
      "metadata": {},
      "source": [
        "# Day 10: Multi-Asset Margin\n",
        "Compute margin for a portfolio of Equities, Credit, and Commodities with cross-margining."
      ]
    },
    {
      "cell_type": "code",
      "execution_count": null,
      "metadata": {},
      "outputs": [],
      "source": [
        "import numpy as np\n",
        "import pandas as pd\n",
        "\n",
        "def multi_asset_margin(returns: pd.DataFrame) -> float:\n",
        "    cov = returns.cov() * 252\n",
        "    weights = np.ones(returns.shape[1]) / returns.shape[1]\n",
        "    portfolio_vol = np.sqrt(np.dot(weights.T, np.dot(cov, weights)))\n",
        "    margin = 1.645 * portfolio_vol\n",
        "    return margin\n",
        "\n",
        "np.random.seed(42)\n",
        "data = pd.DataFrame({\n",
        "    'Equity': np.random.normal(0, 0.01, 252),\n",
        "    'Credit': np.random.normal(0, 0.015, 252),\n",
        "    'Commodity': np.random.normal(0, 0.02, 252)\n",
        "})\n",
        "margin = multi_asset_margin(data)\n",
        "print(f'Multi-Asset Margin: {margin:.4f}')"
      ]
    }
  ],
  "metadata": {
    "kernelspec": {
      "display_name": "Python 3",
      "language": "python",
      "name": "python3"
    },
    "language_info": {
      "codemirror_mode": {
        "name": "ipython",
        "version": 3
      },
      "file_extension": ".py",
      "mimetype": "text/x-python",
      "name": "python",
      "nbconvert_exporter": "python",
      "pygments_lexer": "ipython3",
      "version": "3.9.0"
    }
  },
  "nbformat": 4,
  "nbformat_minor": 4
}