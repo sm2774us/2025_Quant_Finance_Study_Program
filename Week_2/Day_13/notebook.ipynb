{
  "cells": [
    {
      "cell_type": "markdown",
      "metadata": {},
      "source": [
        "# Day 13: Capstone Project\n",
        "Build a multi-asset margin model with VaR, LCR, and regulatory constraints, including attribution."
      ]
    },
    {
      "cell_type": "code",
      "execution_count": null,
      "metadata": {},
      "outputs": [],
      "source": [
        "from mosek.fusion import *\n",
        "import numpy as np\n",
        "import pandas as pd\n",
        "import matplotlib.pyplot as plt\n",
        "\n",
        "def capstone_optimization(returns: pd.DataFrame, var_limit: float, lcr_limit: float, hqla_factors: np.ndarray, outflows: float) -> tuple:\n",
        "    n = returns.shape[1]\n",
        "    with Model('Capstone') as M:\n",
        "        m = M.variable('m', n, nhiDomain.greaterThan(0.25))\n",
        "        portfolio_returns = Expr.dot(m, returns.T)\n",
        "        M.constraint('var', Expr.mul(-1.645, Expr.stdDev(portfolio_returns)), Domain.lessThan(var_limit))\n",
        "        M.constraint('lcr', Expr.dot(hqla_factors, m), Domain.greaterThan(lcr_limit * outflows))\n",
        "        M.objective('obj', ObjectiveSense.Minimize, Expr.sum(m))\n",
        "        M.solve()\n",
        "        margins = m.level()\n",
        "    \n",
        "    contributions = np.zeros(n)\n",
        "    portfolio_vol = np.sqrt(np.diag(returns.cov() * 252))\n",
        "    for i in range(n):\n",
        "        contributions[i] = portfolio_vol[i] * np.corrcoef(returns.iloc[:, i], returns.mean(axis=1))[0, 1]\n",
        "    contributions = contributions / np.sum(contributions) * 100\n",
        "    \n",
        "    return margins, contributions\n",
        "\n",
        "np.random.seed(42)\n",
        "data = pd.DataFrame({\n",
        "    'Equity': np.random.normal(0, 0.01, 252),\n",
        "    'Credit': np.random.normal(0, 0.015, 252),\n",
        "    'Commodity': np.random.normal(0, 0.02, 252)\n",
        "})\n",
        "hqla_factors = np.array([0.8, 0.9, 0.6])\n",
        "margins, contributions = capstone_optimization(data, 0.05, 1.0, hqla_factors, 10.0)\n",
        "print(f'Capstone Margins: {margins}')\n",
        "plt.bar(data.columns, contributions)\n",
        "plt.title('Margin Contributions (%)')\n",
        "plt.ylabel('Contribution')\n",
        "plt.savefig('capstone_contributions.png')\n",
        "plt.show()"
      ]
    },
    {
      "cell_type": "markdown",
      "metadata": {},
      "source": [
        "## Summary\n",
        "\n",
        "### Objective\n",
        "Developed a comprehensive margin allocation model for a portfolio of Equity, Credit, and Commodity assets, minimizing total margin while meeting VaR (≤ 5%, 95% confidence), LCR (≥ 1), and FINRA (25% minimum) constraints. Included attribution for transparency.\n",
        "\n",
        "### Methodology\n",
        "- **Data**: Simulated 252 days of returns (normal distribution).\n",
        "- **Model**: Quadratic optimization using Mosek.\n",
        "- **Constraints**:\n",
        "  - VaR ≤ 0.05 (z-score = 1.645).\n",
        "  - LCR ≥ 1 (HQLA/outflows).\n",
        "  - Minimum margin ≥ 0.25 per asset.\n",
        "- **Attribution**: Simplified Shapley values based on volatility and correlation.\n",
        "- **Outputs**: Margins per asset, total margin, contribution chart.\n",
        "\n",
        "### Assumptions\n",
        "- Normal returns distribution.\n",
        "- Constant HQLA factors (Equity: 0.8, Credit: 0.9, Commodity: 0.6).\n",
        "- Annualized metrics (252 trading days).\n",
        "\n",
        "### Results\n",
        "- Optimal margins allocated, balancing risk, liquidity, and regulatory requirements.\n",
        "- Attribution highlights Commodity as the largest margin driver due to high volatility.\n",
        "\n",
        "### Next Steps\n",
        "- Incorporate stochastic scenarios for robustness.\n",
        "- Enhance attribution with full Shapley calculations.\n",
        "- Deploy model with IT support."
      ]
    }
  ],
  "metadata": {
    "kernelspec": {
      "display_name": "Python 3",
      "language": "python",
      "name": "python3"
    },
    "language_info": {
      "codemirror_mode": {
        "name": "ipython",
        "version": 3
      },
      "file_extension": ".py",
      "mimetype": "text/x-python",
      "name": "python",
      "nbconvert_exporter": "python",
      "pygments_lexer": "ipython3",
      "version": "3.9.0"
    }
  },
  "nbformat": 4,
  "nbformat_minor": 4
}