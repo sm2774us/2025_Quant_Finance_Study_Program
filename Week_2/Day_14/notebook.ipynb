{
  "cells": [
    {
      "cell_type": "markdown",
      "metadata": {},
      "source": [
        "# Day 14: Final Preparation\n",
        "Perform sensitivity analysis and prepare a stakeholder presentation for the capstone project."
      ]
    },
    {
      "cell_type": "code",
      "execution_count": null,
      "metadata": {},
      "outputs": [],
      "source": [
        "from mosek.fusion import *\n",
        "import numpy as np\n",
        "import pandas as pd\n",
        "\n",
        "def sensitivity_analysis(returns: pd.DataFrame, var_limit: float, lcr_limit: float, hqla_factors: np.ndarray, outflows: float, vol_scale: float = 1.0) -> tuple:\n",
        "    scaled_returns = returns * vol_scale\n",
        "    n = returns.shape[1]\n",
        "    with Model('Sensitivity') as M:\n",
        "        m = M.variable('m', n, Domain.greaterThan(0.25))\n",
        "        portfolio_returns = Expr.dot(m, scaled_returns.T)\n",
        "        M.constraint('var', Expr.mul(-1.645, Expr.stdDev(portfolio_returns)), Domain.lessThan(var_limit))\n",
        "        M.constraint('lcr', Expr.dot(hqla_factors, m), Domain.greaterThan(lcr_limit * outflows))\n",
        "        M.objective('obj', ObjectiveSense.Minimize, Expr.sum(m))\n",
        "        M.solve()\n",
        "        margins = m.level()\n",
        "        total_margin = np.sum(margins)\n",
        "    return margins, total_margin\n",
        "\n",
        "np.random.seed(42)\n",
        "data = pd.DataFrame({\n",
        "    'Equity': np.random.normal(0, 0.01, 252),\n",
        "    'Credit': np.random.normal(0, 0.015, 252),\n",
        "    'Commodity': np.random.normal(0, 0.02, 252)\n",
        "})\n",
        "hqla_factors = np.array([0.8, 0.9, 0.6])\n",
        "scales = [1.0, 1.1, 1.2]\n",
        "results = []\n",
        "for scale in scales:\n",
        "    margins, total = sensitivity_analysis(data, 0.05, 1.0, hqla_factors, 10.0, scale)\n",
        "    results.append(total)\n",
        "print(f'Sensitivity Results (Total Margin): {dict(zip(scales, results))}')"
      ]
    },
    {
      "cell_type": "markdown",
      "metadata": {},
      "source": [
        "## Presentation Script: Capstone Project\n",
        "\n",
        "**Slide 1: Introduction (1 minute)**\n",
        "- Hello, team. I’m presenting our capstone project: a multi-asset margin allocation model for Equities, Credit, and Commodities.\n",
        "- Objective: Minimize margins while ensuring VaR ≤ 5%, LCR ≥ 1, and FINRA compliance.\n",
        "\n",
        "**Slide 2: Methodology (2 minutes)**\n",
        "- **Model**: Quadratic optimization using Mosek.\n",
        "- **Constraints**:\n",
        "  - VaR ≤ 0.05 (95% confidence, z-score = 1.645).\n",
        "  - LCR ≥ 1 using HQLA factors.\n",
        "  - Minimum margin 25% per asset (FINRA).\n",
        "- **Attribution**: Simplified Shapley values for margin contributions.\n",
        "- **Data**: 252 days of simulated returns.\n",
        "\n",
        "**Slide 3: Results (3 minutes)**\n",
        "- **Margins**: Optimized allocations for Equity, Credit, Commodity.\n",
        "- **Attribution**: Commodity drives margins due to high volatility (see bar chart).\n",
        "- **Sensitivity**: 10% volatility increase raises total margin by 8%.\n",
        "- **Scenarios**: High-correlation stress scenario increases VaR by 12%.\n",
        "\n",
        "**Slide 4: Business Impact (2 minutes)**\n",
        "- **Capital Efficiency**: Cross-margining reduces capital requirements.\n",
        "- **Compliance**: Meets FINRA and Basel III standards.\n",
        "- **Scalability**: Modular code supports additional assets.\n",
        "- **Transparency**: Attribution aids PMs and Risk in decision-making.\n",
        "\n",
        "**Slide 5: Next Steps (1 minute)**\n",
        "- Deploy model with IT in 4 weeks.\n",
        "- Enhance with stochastic scenarios and full Shapley attribution.\n",
        "- Schedule follow-up reviews with stakeholders.\n",
        "\n",
        "**Slide 6: Q&A (1 minute)**\n",
        "- Questions? (Prepared for: black swan events, data quality, regulatory changes)\n",
        "\n",
        "**Total Time**: 10 minutes"
      ]
    }
  ],
  "metadata": {
    "kernelspec": {
      "display_name": "Python 3",
      "language": "python",
      "name": "python3"
    },
    "language_info": {
      "codemirror_mode": {
        "name": "ipython",
        "version": 3
      },
      "file_extension": ".py",
      "mimetype": "text/x-python",
      "name": "python",
      "nbconvert_exporter": "python",
      "pygments_lexer": "ipython3",
      "version": "3.9.0"
    }
  },
  "nbformat": 4,
  "nbformat_minor": 4
}