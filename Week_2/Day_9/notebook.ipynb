{
  "cells": [
    {
      "cell_type": "markdown",
      "metadata": {},
      "source": [
        "# Day 9: Margin Attribution\n",
        "Compute and visualize margin contributions using a simplified Shapley approach."
      ]
    },
    {
      "cell_type": "code",
      "execution_count": null,
      "metadata": {},
      "outputs": [],
      "source": [
        "import numpy as np\n",
        "import pandas as pd\n",
        "import matplotlib.pyplot as plt\n",
        "\n",
        "def shapley_margin(returns: pd.DataFrame) -> np.ndarray:\n",
        "    n = returns.shape[1]\n",
        "    shapley = np.zeros(n)\n",
        "    portfolio_vol = np.sqrt(np.diag(returns.cov() * 252))\n",
        "    for i in range(n):\n",
        "        shapley[i] = portfolio_vol[i] * np.corrcoef(returns.iloc[:, i], returns.mean(axis=1))[0, 1]\n",
        "    return shapley / np.sum(shapley) * 100\n",
        "\n",
        "np.random.seed(42)\n",
        "data = pd.DataFrame({\n",
        "    'Equity1': np.random.normal(0, 0.01, 252),\n",
        "    'Equity2': np.random.normal(0, 0.015, 252),\n",
        "    'Credit': np.random.normal(0, 0.008, 252)\n",
        "})\n",
        "contributions = shapley_margin(data)\n",
        "plt.bar(data.columns, contributions)\n",
        "plt.title('Margin Contributions (%)')\n",
        "plt.ylabel('Contribution')\n",
        "plt.savefig('margin_contributions.png')\n",
        "plt.show()"
      ]
    }
  ],
  "metadata": {
    "kernelspec": {
      "display_name": "Python 3",
      "language": "python",
      "name": "python3"
    },
    "language_info": {
      "codemirror_mode": {
        "name": "ipython",
        "version": 3
      },
      "file_extension": ".py",
      "mimetype": "text/x-python",
      "name": "python",
      "nbconvert_exporter": "python",
      "pygments_lexer": "ipython3",
      "version": "3.9.0"
    }
  },
  "nbformat": 4,
  "nbformat_minor": 4
}